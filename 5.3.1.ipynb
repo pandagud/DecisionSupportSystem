{
 "cells": [
  {
   "cell_type": "code",
   "execution_count": 1,
   "metadata": {},
   "outputs": [],
   "source": [
    "## http://www.science.smith.edu/~jcrouser/SDS293/labs/lab7-py.html"
   ]
  },
  {
   "cell_type": "code",
   "execution_count": 14,
   "metadata": {},
   "outputs": [
    {
     "name": "stdout",
     "output_type": "stream",
     "text": [
      "Auto originally had a size of 397. Some of the samples were incorrect and the sample set were reduced to 392.\n",
      "<class 'pandas.core.frame.DataFrame'>\n",
      "Int64Index: 392 entries, 0 to 391\n",
      "Data columns (total 9 columns):\n",
      "mpg             392 non-null float64\n",
      "cylinders       392 non-null int64\n",
      "displacement    392 non-null float64\n",
      "horsepower      392 non-null int64\n",
      "weight          392 non-null int64\n",
      "acceleration    392 non-null float64\n",
      "year            392 non-null int64\n",
      "origin          392 non-null int64\n",
      "name            392 non-null object\n",
      "dtypes: float64(3), int64(5), object(1)\n",
      "memory usage: 30.6+ KB\n",
      "None\n"
     ]
    }
   ],
   "source": [
    "import pandas as pd\n",
    "import matplotlib.pyplot as plt\n",
    "import sklearn.linear_model as skl\n",
    "import numpy as np\n",
    "Auto = pd.read_csv(r'C:\\Users\\panda\\DecisionSupportSystems\\Auto.csv').dropna()\n",
    "print(\"Auto originally had a size of 397. Some of the samples were incorrect and the sample set were reduced to 392.\")\n",
    "print(Auto.info())"
   ]
  },
  {
   "cell_type": "code",
   "execution_count": 15,
   "metadata": {},
   "outputs": [
    {
     "name": "stdout",
     "output_type": "stream",
     "text": [
      "      mpg  cylinders  displacement  horsepower  weight  acceleration  year  \\\n",
      "81   23.0          4         120.0          97    2506          14.5    72   \n",
      "165  29.0          4          97.0          75    2171          16.0    75   \n",
      "351  32.4          4         108.0          75    2350          16.8    81   \n",
      "119  19.0          4         121.0         112    2868          15.5    73   \n",
      "379  38.0          4          91.0          67    1995          16.2    82   \n",
      "..    ...        ...           ...         ...     ...           ...   ...   \n",
      "99   18.0          6         250.0          88    3021          16.5    73   \n",
      "342  32.3          4          97.0          67    2065          17.8    81   \n",
      "323  44.3          4          90.0          48    2085          21.7    80   \n",
      "314  19.1          6         225.0          90    3381          18.7    80   \n",
      "28    9.0          8         304.0         193    4732          18.5    70   \n",
      "\n",
      "     origin                         name  \n",
      "81        3  toyouta corona mark ii (sw)  \n",
      "165       3               toyota corolla  \n",
      "351       3               toyota corolla  \n",
      "119       2                  volvo 144ea  \n",
      "379       3                datsun 310 gx  \n",
      "..      ...                          ...  \n",
      "99        1                ford maverick  \n",
      "342       3                       subaru  \n",
      "323       2         vw rabbit c (diesel)  \n",
      "314       1                  dodge aspen  \n",
      "28        1                     hi 1200d  \n",
      "\n",
      "[196 rows x 9 columns]\n"
     ]
    }
   ],
   "source": [
    "train=Auto.sample(196,random_state=1)\n",
    "test = Auto[~Auto.isin(train)].dropna(how = 'all')\n",
    "print(train)"
   ]
  },
  {
   "cell_type": "code",
   "execution_count": 16,
   "metadata": {},
   "outputs": [],
   "source": [
    "X_test = test['horsepower'].values.reshape(-1,1)\n",
    "y_test = test['mpg']\n",
    "X_train = train['horsepower'].values.reshape(-1,1)\n",
    "y_train = train['mpg']"
   ]
  },
  {
   "cell_type": "code",
   "execution_count": 21,
   "metadata": {},
   "outputs": [],
   "source": [
    "lmodel = skl.LinearRegression()"
   ]
  },
  {
   "cell_type": "code",
   "execution_count": 22,
   "metadata": {},
   "outputs": [],
   "source": [
    "datamodel=lmodel.fit(X_train,y_train)"
   ]
  },
  {
   "cell_type": "code",
   "execution_count": 23,
   "metadata": {},
   "outputs": [
    {
     "name": "stdout",
     "output_type": "stream",
     "text": [
      "23.361902892587224\n"
     ]
    }
   ],
   "source": [
    "pred = datamodel.predict(X_test)\n",
    "\n",
    "from sklearn.metrics import mean_squared_error\n",
    "\n",
    "MSE = mean_squared_error(y_test, pred)\n",
    "    \n",
    "print(MSE)"
   ]
  },
  {
   "cell_type": "code",
   "execution_count": 20,
   "metadata": {},
   "outputs": [],
   "source": [
    "## Using PolyomialFeatures to estiamte test for polynomail and cubic regression "
   ]
  },
  {
   "cell_type": "code",
   "execution_count": 24,
   "metadata": {},
   "outputs": [],
   "source": [
    "from sklearn.preprocessing import PolynomialFeatures\n",
    "\n",
    "# Quadratic\n",
    "polynomail = PolynomialFeatures(degree=2)\n",
    "X_train2 = polynomail.fit_transform(X_train)\n",
    "X_test2 = polynomail.fit_transform(X_test)\n"
   ]
  },
  {
   "cell_type": "code",
   "execution_count": 25,
   "metadata": {},
   "outputs": [
    {
     "name": "stdout",
     "output_type": "stream",
     "text": [
      "20.252690858347492\n"
     ]
    }
   ],
   "source": [
    "polymodel = lmodel.fit(X_train2, y_train)\n",
    "print(mean_squared_error(y_test, polymodel.predict(X_test2)))\n"
   ]
  },
  {
   "cell_type": "code",
   "execution_count": 26,
   "metadata": {},
   "outputs": [
    {
     "name": "stdout",
     "output_type": "stream",
     "text": [
      "20.325609366315604\n"
     ]
    }
   ],
   "source": [
    "# Cubic\n",
    "polynomail = PolynomialFeatures(degree=3)\n",
    "X_train3 = polynomail.fit_transform(X_train)\n",
    "X_test3 = polynomail.fit_transform(X_test)\n",
    "\n",
    "polymodel = lmodel.fit(X_train3, y_train)\n",
    "print(mean_squared_error(y_test, polymodel.predict(X_test3)))"
   ]
  },
  {
   "cell_type": "code",
   "execution_count": null,
   "metadata": {},
   "outputs": [],
   "source": []
  },
  {
   "cell_type": "code",
   "execution_count": null,
   "metadata": {},
   "outputs": [],
   "source": []
  }
 ],
 "metadata": {
  "kernelspec": {
   "display_name": "Python 3",
   "language": "python",
   "name": "python3"
  },
  "language_info": {
   "codemirror_mode": {
    "name": "ipython",
    "version": 3
   },
   "file_extension": ".py",
   "mimetype": "text/x-python",
   "name": "python",
   "nbconvert_exporter": "python",
   "pygments_lexer": "ipython3",
   "version": "3.7.4"
  }
 },
 "nbformat": 4,
 "nbformat_minor": 2
}
