{
 "cells": [
  {
   "cell_type": "markdown",
   "metadata": {},
   "source": [
    "# Loading Data"
   ]
  },
  {
   "cell_type": "code",
   "execution_count": 35,
   "metadata": {},
   "outputs": [
    {
     "name": "stdout",
     "output_type": "stream",
     "text": [
      "<class 'pandas.core.frame.DataFrame'>\n",
      "Index: 263 entries, -Alan Ashby to -Willie Wilson\n",
      "Data columns (total 20 columns):\n",
      "AtBat        263 non-null int64\n",
      "Hits         263 non-null int64\n",
      "HmRun        263 non-null int64\n",
      "Runs         263 non-null int64\n",
      "RBI          263 non-null int64\n",
      "Walks        263 non-null int64\n",
      "Years        263 non-null int64\n",
      "CAtBat       263 non-null int64\n",
      "CHits        263 non-null int64\n",
      "CHmRun       263 non-null int64\n",
      "CRuns        263 non-null int64\n",
      "CRBI         263 non-null int64\n",
      "CWalks       263 non-null int64\n",
      "League       263 non-null object\n",
      "Division     263 non-null object\n",
      "PutOuts      263 non-null int64\n",
      "Assists      263 non-null int64\n",
      "Errors       263 non-null int64\n",
      "Salary       263 non-null float64\n",
      "NewLeague    263 non-null object\n",
      "dtypes: float64(1), int64(16), object(3)\n",
      "memory usage: 43.1+ KB\n"
     ]
    }
   ],
   "source": [
    "# %load ../standard_import.txt\n",
    "import pandas as pd\n",
    "import numpy as np\n",
    "import matplotlib.pyplot as plt\n",
    "import seaborn as sns\n",
    "import time\n",
    "import itertools\n",
    "import statsmodels.api as sm\n",
    "from sklearn.preprocessing import scale \n",
    "from sklearn import model_selection\n",
    "from sklearn.linear_model import LinearRegression, Ridge, RidgeCV, Lasso, LassoCV\n",
    "from sklearn.decomposition import PCA\n",
    "from sklearn.cross_decomposition import PLSRegression\n",
    "from sklearn.model_selection import KFold, cross_val_score\n",
    "from sklearn.metrics import mean_squared_error\n",
    "import warnings\n",
    "warnings.simplefilter(action='ignore', category=FutureWarning)\n",
    "\n",
    "\n",
    "# I load the date set and fix the problem with missing Salaries for 59 players.\n",
    "Hitter = pd.read_csv(r'C:\\Users\\panda\\DecisionSupportSystems\\Hitters.csv',index_col=0).dropna()\n",
    "Hitter.index.name = 'Player'\n",
    "Hitter.info()"
   ]
  },
  {
   "cell_type": "code",
   "execution_count": 2,
   "metadata": {},
   "outputs": [
    {
     "name": "stdout",
     "output_type": "stream",
     "text": [
      "Number of null values: 0\n"
     ]
    }
   ],
   "source": [
    "# Checking the all players have a value at the column Salary\n",
    "print(\"Number of null values:\", Hitter[\"Salary\"].isnull().sum())\n"
   ]
  },
  {
   "cell_type": "code",
   "execution_count": 3,
   "metadata": {},
   "outputs": [],
   "source": [
    "# Cleaning predictors up using Panda by genereting dummy variables, separate out the responses variable, and putting everything back together.\n",
    "Hitter_dimmies = pd.get_dummies(Hitter[['League', 'Division', 'NewLeague']])"
   ]
  },
  {
   "cell_type": "code",
   "execution_count": 14,
   "metadata": {},
   "outputs": [],
   "source": [
    "y = Hitter.Salary\n",
    "\n",
    "# Drop the independent variable (Salary)\n",
    "X_ = Hitter.drop(['Salary', 'League', 'Division', 'NewLeague'], axis=1).astype('float64')\n",
    "# Define the feature set X.\n",
    "X = pd.concat([X_, Hitter_dimmies[['League_N', 'Division_W', 'NewLeague_N']]], axis=1)\n",
    "data=y;"
   ]
  },
  {
   "cell_type": "code",
   "execution_count": 15,
   "metadata": {},
   "outputs": [],
   "source": [
    "# we use the  training observations. If the full data set is used to perform the best subset selection step, the validation set errors and cross-validation errors that we obtain will not be accurate estimates of the test error."
   ]
  },
  {
   "cell_type": "markdown",
   "metadata": {},
   "source": [
    "## Model selection using validation set approach"
   ]
  },
  {
   "cell_type": "code",
   "execution_count": 27,
   "metadata": {},
   "outputs": [],
   "source": [
    "np.random.seed(seed=12)\n",
    "train = np.random.choice([True, False], size = len(data), replace = True)\n",
    "test = np.invert(train)"
   ]
  },
  {
   "cell_type": "code",
   "execution_count": 36,
   "metadata": {},
   "outputs": [],
   "source": [
    "def subsetProcess(f_set, X_train, y_train, X_test, y_test):\n",
    "    # Cal Rss and fitting the model\n",
    "    cur_model = sm.OLS(y_train,X_train[list(f_set)])\n",
    "    regr = cur_model.fit()\n",
    "    RSS = ((regr.predict(X_test[list(f_set)]) - y_test) ** 2).sum()\n",
    "    return {\"model\":regr, \"RSS\":RSS}"
   ]
  },
  {
   "cell_type": "code",
   "execution_count": 37,
   "metadata": {},
   "outputs": [],
   "source": [
    "def forward_subset(predictors, X_train, y_train, X_test, y_test):\n",
    "    \n",
    "    cur_results = []\n",
    "\n",
    "    # Pull out predictors that are missing processing\n",
    "    remaining_predictors = [t for t in X_train.columns if t not in predictors]\n",
    "    \n",
    "    for t in remaining_predictors:\n",
    "        cur_results.append(subsetProcess(predictors+[t], X_train, y_train, X_test, y_test))\n",
    "    \n",
    "    # wrap using DataFrame\n",
    "    all_models = pd.DataFrame(cur_results)\n",
    "    \n",
    "    # Selecting best model based on RSS\n",
    "    best_RSS_model = all_models.loc[all_models['RSS'].argmin()]\n",
    "        \n",
    "    # Return the best model\n",
    "    return best_RSS_model"
   ]
  },
  {
   "cell_type": "code",
   "execution_count": 38,
   "metadata": {},
   "outputs": [],
   "source": [
    "train_models = pd.DataFrame(columns=[\"RSS\", \"model\"])\n",
    "\n",
    "predictors = []\n",
    "\n",
    "for i in range(1,len(X.columns)+1):    \n",
    "    train_models.loc[i] = forward_subset(predictors, X[train], y[train], X[test], y[test])\n",
    "    predictors = train_models.loc[i][\"model\"].model.exog_names"
   ]
  },
  {
   "cell_type": "code",
   "execution_count": 39,
   "metadata": {},
   "outputs": [
    {
     "data": {
      "text/plain": [
       "[<matplotlib.lines.Line2D at 0x1e8ec9a6448>]"
      ]
     },
     "execution_count": 39,
     "metadata": {},
     "output_type": "execute_result"
    },
    {
     "data": {
      "image/png": "[encoded data removed]",
      "text/plain": [
       "<Figure size 432x288 with 1 Axes>"
      ]
     },
     "metadata": {
      "needs_background": "light"
     },
     "output_type": "display_data"
    }
   ],
   "source": [
    "plt.plot(train_models[\"RSS\"])\n",
    "plt.xlabel('Number of predictors')\n",
    "plt.ylabel('RSS value')\n",
    "plt.plot(train_models[\"RSS\"].argmin(), train_models[\"RSS\"].min(), \"or\")"
   ]
  },
  {
   "cell_type": "code",
   "execution_count": 40,
   "metadata": {},
   "outputs": [],
   "source": [
    "test_models = pd.DataFrame(columns=[\"RSS\", \"model\"])\n",
    "\n",
    "predictors = []\n",
    "\n",
    "for i in range(1,11):    \n",
    "    test_models.loc[i] = forward_subset(predictors, X[test], y[test], X[test], y[test])\n",
    "    predictors = test_models.loc[i][\"model\"].model.exog_names"
   ]
  },
  {
   "cell_type": "code",
   "execution_count": 45,
   "metadata": {},
   "outputs": [
    {
     "name": "stdout",
     "output_type": "stream",
     "text": [
      "['Walks', 'CRBI', 'Hits', 'Division_W', 'CWalks', 'CRuns', 'AtBat', 'League_N', 'CHits', 'Runs']\n",
      "['Walks', 'CRBI', 'Assists', 'Division_W', 'CWalks', 'CRuns', 'PutOuts', 'Errors', 'League_N', 'CHmRun']\n"
     ]
    }
   ],
   "source": [
    "print(train_models.loc[10, \"model\"].model.exog_names)\n",
    "print(test_models.loc[10, \"model\"].model.exog_names)"
   ]
  },
  {
   "cell_type": "markdown",
   "metadata": {},
   "source": [
    "## Cross-Validation"
   ]
  },
  {
   "cell_type": "code",
   "execution_count": 55,
   "metadata": {},
   "outputs": [],
   "source": [
    "t = 10        # Taking 10 fold of numbers \n",
    "np.random.seed(seed=1)\n",
    "folds = np.random.choice(t, size = len(y), replace = True)\n",
    "\n",
    "# Create Errors for storing values. \n",
    "errors_cv = pd.DataFrame(columns=range(1,t+1), index=range(1,20))\n",
    "crossval_errors = errors_cv.fillna(0)"
   ]
  },
  {
   "cell_type": "code",
   "execution_count": 56,
   "metadata": {},
   "outputs": [],
   "source": [
    "crossV_models = pd.DataFrame(columns=[\"RSS\", \"model\"])\n",
    "    \n",
    "# Loop iteration over folds\n",
    "for j in range(1,k+1):\n",
    "\n",
    "    \n",
    "    predictors = []\n",
    "    \n",
    "   \n",
    "    for i in range(1,len(X.columns)+1):    \n",
    "    \n",
    "     \n",
    "        crossV_models.loc[i] = forward_subset(predictors, X[folds != (j-1)], y[folds != (j-1)], X[folds == (j-1)], y[folds == (j-1)])\n",
    "        \n",
    "        # Cross-validation error is stored\n",
    "        crossval_errors[j][i] = crossV_models.loc[i][\"RSS\"]\n",
    "\n",
    "        # Predictors is taken out\n",
    "        predictors = crossV_models.loc[i][\"model\"].model.exog_names"
   ]
  },
  {
   "cell_type": "code",
   "execution_count": 57,
   "metadata": {},
   "outputs": [
    {
     "data": {
      "text/html": [
       "<div>\n",
       "<style scoped>\n",
       "    .dataframe tbody tr th:only-of-type {\n",
       "        vertical-align: middle;\n",
       "    }\n",
       "\n",
       "    .dataframe tbody tr th {\n",
       "        vertical-align: top;\n",
       "    }\n",
       "\n",
       "    .dataframe thead th {\n",
       "        text-align: right;\n",
       "    }\n",
       "</style>\n",
       "<table border=\"1\" class=\"dataframe\">\n",
       "  <thead>\n",
       "    <tr style=\"text-align: right;\">\n",
       "      <th></th>\n",
       "      <th>1</th>\n",
       "      <th>2</th>\n",
       "      <th>3</th>\n",
       "      <th>4</th>\n",
       "      <th>5</th>\n",
       "      <th>6</th>\n",
       "      <th>7</th>\n",
       "      <th>8</th>\n",
       "      <th>9</th>\n",
       "      <th>10</th>\n",
       "    </tr>\n",
       "  </thead>\n",
       "  <tbody>\n",
       "    <tr>\n",
       "      <td>1</td>\n",
       "      <td>3107900</td>\n",
       "      <td>3212304</td>\n",
       "      <td>4840103</td>\n",
       "      <td>2475453</td>\n",
       "      <td>3750302</td>\n",
       "      <td>1551976</td>\n",
       "      <td>1827366</td>\n",
       "      <td>9115194</td>\n",
       "      <td>1370720</td>\n",
       "      <td>2204862</td>\n",
       "    </tr>\n",
       "    <tr>\n",
       "      <td>2</td>\n",
       "      <td>2354036</td>\n",
       "      <td>2247881</td>\n",
       "      <td>3414444</td>\n",
       "      <td>1642455</td>\n",
       "      <td>3160950</td>\n",
       "      <td>1250564</td>\n",
       "      <td>1567469</td>\n",
       "      <td>8520751</td>\n",
       "      <td>1081052</td>\n",
       "      <td>1856304</td>\n",
       "    </tr>\n",
       "    <tr>\n",
       "      <td>3</td>\n",
       "      <td>2148733</td>\n",
       "      <td>2012864</td>\n",
       "      <td>3009435</td>\n",
       "      <td>1566581</td>\n",
       "      <td>2775618</td>\n",
       "      <td>907304</td>\n",
       "      <td>1260460</td>\n",
       "      <td>8456576</td>\n",
       "      <td>969784</td>\n",
       "      <td>1674333</td>\n",
       "    </tr>\n",
       "    <tr>\n",
       "      <td>4</td>\n",
       "      <td>1946031</td>\n",
       "      <td>1870511</td>\n",
       "      <td>2630784</td>\n",
       "      <td>1521525</td>\n",
       "      <td>2618750</td>\n",
       "      <td>805135</td>\n",
       "      <td>1143882</td>\n",
       "      <td>8331746</td>\n",
       "      <td>857553</td>\n",
       "      <td>1618265</td>\n",
       "    </tr>\n",
       "    <tr>\n",
       "      <td>5</td>\n",
       "      <td>1850398</td>\n",
       "      <td>1605148</td>\n",
       "      <td>2537690</td>\n",
       "      <td>1502728</td>\n",
       "      <td>2608466</td>\n",
       "      <td>776171</td>\n",
       "      <td>1124174</td>\n",
       "      <td>8221957</td>\n",
       "      <td>793919</td>\n",
       "      <td>1574253</td>\n",
       "    </tr>\n",
       "    <tr>\n",
       "      <td>6</td>\n",
       "      <td>1778324</td>\n",
       "      <td>1574266</td>\n",
       "      <td>2498621</td>\n",
       "      <td>1482575</td>\n",
       "      <td>2632055</td>\n",
       "      <td>776163</td>\n",
       "      <td>1115741</td>\n",
       "      <td>8196969</td>\n",
       "      <td>781235</td>\n",
       "      <td>1534220</td>\n",
       "    </tr>\n",
       "    <tr>\n",
       "      <td>7</td>\n",
       "      <td>1761111</td>\n",
       "      <td>1524413</td>\n",
       "      <td>2452303</td>\n",
       "      <td>1480345</td>\n",
       "      <td>2661104</td>\n",
       "      <td>779716</td>\n",
       "      <td>1104388</td>\n",
       "      <td>8171959</td>\n",
       "      <td>776457</td>\n",
       "      <td>1503831</td>\n",
       "    </tr>\n",
       "    <tr>\n",
       "      <td>8</td>\n",
       "      <td>1733230</td>\n",
       "      <td>1529625</td>\n",
       "      <td>2418943</td>\n",
       "      <td>1477510</td>\n",
       "      <td>2660654</td>\n",
       "      <td>803859</td>\n",
       "      <td>1100753</td>\n",
       "      <td>7449396</td>\n",
       "      <td>774589</td>\n",
       "      <td>1536790</td>\n",
       "    </tr>\n",
       "    <tr>\n",
       "      <td>9</td>\n",
       "      <td>1773705</td>\n",
       "      <td>1607919</td>\n",
       "      <td>2381843</td>\n",
       "      <td>1504519</td>\n",
       "      <td>2677002</td>\n",
       "      <td>821629</td>\n",
       "      <td>1096925</td>\n",
       "      <td>7136283</td>\n",
       "      <td>774616</td>\n",
       "      <td>1542746</td>\n",
       "    </tr>\n",
       "    <tr>\n",
       "      <td>10</td>\n",
       "      <td>1865909</td>\n",
       "      <td>1682293</td>\n",
       "      <td>2378624</td>\n",
       "      <td>1528102</td>\n",
       "      <td>2597881</td>\n",
       "      <td>854997</td>\n",
       "      <td>1136162</td>\n",
       "      <td>7059485</td>\n",
       "      <td>775993</td>\n",
       "      <td>1597314</td>\n",
       "    </tr>\n",
       "    <tr>\n",
       "      <td>11</td>\n",
       "      <td>2001187</td>\n",
       "      <td>1972309</td>\n",
       "      <td>2377337</td>\n",
       "      <td>1540347</td>\n",
       "      <td>2659206</td>\n",
       "      <td>866399</td>\n",
       "      <td>1150317</td>\n",
       "      <td>7047911</td>\n",
       "      <td>705031</td>\n",
       "      <td>1751416</td>\n",
       "    </tr>\n",
       "    <tr>\n",
       "      <td>12</td>\n",
       "      <td>2183874</td>\n",
       "      <td>2120447</td>\n",
       "      <td>2376437</td>\n",
       "      <td>1583554</td>\n",
       "      <td>2727452</td>\n",
       "      <td>980350</td>\n",
       "      <td>1114814</td>\n",
       "      <td>7056950</td>\n",
       "      <td>687640</td>\n",
       "      <td>1945971</td>\n",
       "    </tr>\n",
       "    <tr>\n",
       "      <td>13</td>\n",
       "      <td>2337672</td>\n",
       "      <td>2333119</td>\n",
       "      <td>2398381</td>\n",
       "      <td>1729660</td>\n",
       "      <td>2772831</td>\n",
       "      <td>1039253</td>\n",
       "      <td>1104974</td>\n",
       "      <td>7117616</td>\n",
       "      <td>699082</td>\n",
       "      <td>1857369</td>\n",
       "    </tr>\n",
       "    <tr>\n",
       "      <td>14</td>\n",
       "      <td>2398776</td>\n",
       "      <td>2556735</td>\n",
       "      <td>2426684</td>\n",
       "      <td>1788102</td>\n",
       "      <td>2804067</td>\n",
       "      <td>993013</td>\n",
       "      <td>1142143</td>\n",
       "      <td>7469678</td>\n",
       "      <td>743080</td>\n",
       "      <td>1884753</td>\n",
       "    </tr>\n",
       "    <tr>\n",
       "      <td>15</td>\n",
       "      <td>1971720</td>\n",
       "      <td>2519254</td>\n",
       "      <td>2421747</td>\n",
       "      <td>1750523</td>\n",
       "      <td>3054990</td>\n",
       "      <td>1033770</td>\n",
       "      <td>1204091</td>\n",
       "      <td>7439538</td>\n",
       "      <td>763736</td>\n",
       "      <td>1980209</td>\n",
       "    </tr>\n",
       "    <tr>\n",
       "      <td>16</td>\n",
       "      <td>1948823</td>\n",
       "      <td>2774368</td>\n",
       "      <td>2454268</td>\n",
       "      <td>1820562</td>\n",
       "      <td>3226325</td>\n",
       "      <td>1080503</td>\n",
       "      <td>1326684</td>\n",
       "      <td>7616005</td>\n",
       "      <td>824465</td>\n",
       "      <td>1949936</td>\n",
       "    </tr>\n",
       "    <tr>\n",
       "      <td>17</td>\n",
       "      <td>2030731</td>\n",
       "      <td>2884961</td>\n",
       "      <td>2644840</td>\n",
       "      <td>1906939</td>\n",
       "      <td>3342739</td>\n",
       "      <td>1105981</td>\n",
       "      <td>1324450</td>\n",
       "      <td>7637693</td>\n",
       "      <td>879744</td>\n",
       "      <td>2045321</td>\n",
       "    </tr>\n",
       "    <tr>\n",
       "      <td>18</td>\n",
       "      <td>2199928</td>\n",
       "      <td>3027921</td>\n",
       "      <td>2787490</td>\n",
       "      <td>2016598</td>\n",
       "      <td>4336091</td>\n",
       "      <td>1181122</td>\n",
       "      <td>1421665</td>\n",
       "      <td>7770971</td>\n",
       "      <td>909756</td>\n",
       "      <td>2062251</td>\n",
       "    </tr>\n",
       "    <tr>\n",
       "      <td>19</td>\n",
       "      <td>2601547</td>\n",
       "      <td>3389497</td>\n",
       "      <td>3137982</td>\n",
       "      <td>2412422</td>\n",
       "      <td>4918740</td>\n",
       "      <td>1706786</td>\n",
       "      <td>1582120</td>\n",
       "      <td>7933249</td>\n",
       "      <td>1202840</td>\n",
       "      <td>2066104</td>\n",
       "    </tr>\n",
       "  </tbody>\n",
       "</table>\n",
       "</div>"
      ],
      "text/plain": [
       "          1        2        3        4        5        6        7        8  \\\n",
       "1   3107900  3212304  4840103  2475453  3750302  1551976  1827366  9115194   \n",
       "2   2354036  2247881  3414444  1642455  3160950  1250564  1567469  8520751   \n",
       "3   2148733  2012864  3009435  1566581  2775618   907304  1260460  8456576   \n",
       "4   1946031  1870511  2630784  1521525  2618750   805135  1143882  8331746   \n",
       "5   1850398  1605148  2537690  1502728  2608466   776171  1124174  8221957   \n",
       "6   1778324  1574266  2498621  1482575  2632055   776163  1115741  8196969   \n",
       "7   1761111  1524413  2452303  1480345  2661104   779716  1104388  8171959   \n",
       "8   1733230  1529625  2418943  1477510  2660654   803859  1100753  7449396   \n",
       "9   1773705  1607919  2381843  1504519  2677002   821629  1096925  7136283   \n",
       "10  1865909  1682293  2378624  1528102  2597881   854997  1136162  7059485   \n",
       "11  2001187  1972309  2377337  1540347  2659206   866399  1150317  7047911   \n",
       "12  2183874  2120447  2376437  1583554  2727452   980350  1114814  7056950   \n",
       "13  2337672  2333119  2398381  1729660  2772831  1039253  1104974  7117616   \n",
       "14  2398776  2556735  2426684  1788102  2804067   993013  1142143  7469678   \n",
       "15  1971720  2519254  2421747  1750523  3054990  1033770  1204091  7439538   \n",
       "16  1948823  2774368  2454268  1820562  3226325  1080503  1326684  7616005   \n",
       "17  2030731  2884961  2644840  1906939  3342739  1105981  1324450  7637693   \n",
       "18  2199928  3027921  2787490  2016598  4336091  1181122  1421665  7770971   \n",
       "19  2601547  3389497  3137982  2412422  4918740  1706786  1582120  7933249   \n",
       "\n",
       "          9       10  \n",
       "1   1370720  2204862  \n",
       "2   1081052  1856304  \n",
       "3    969784  1674333  \n",
       "4    857553  1618265  \n",
       "5    793919  1574253  \n",
       "6    781235  1534220  \n",
       "7    776457  1503831  \n",
       "8    774589  1536790  \n",
       "9    774616  1542746  \n",
       "10   775993  1597314  \n",
       "11   705031  1751416  \n",
       "12   687640  1945971  \n",
       "13   699082  1857369  \n",
       "14   743080  1884753  \n",
       "15   763736  1980209  \n",
       "16   824465  1949936  \n",
       "17   879744  2045321  \n",
       "18   909756  2062251  \n",
       "19  1202840  2066104  "
      ]
     },
     "execution_count": 57,
     "metadata": {},
     "output_type": "execute_result"
    }
   ],
   "source": [
    "crossval_errors"
   ]
  },
  {
   "cell_type": "code",
   "execution_count": 58,
   "metadata": {},
   "outputs": [
    {
     "data": {
      "text/plain": [
       "[<matplotlib.lines.Line2D at 0x1e8ed796c08>]"
      ]
     },
     "execution_count": 58,
     "metadata": {},
     "output_type": "execute_result"
    },
    {
     "data": {
      "image/png": "[encoded data removed]",
      "text/plain": [
       "<Figure size 432x288 with 1 Axes>"
      ]
     },
     "metadata": {
      "needs_background": "light"
     },
     "output_type": "display_data"
    }
   ],
   "source": [
    "cv_mean = crossval_errors.apply(np.mean, axis=1)\n",
    "\n",
    "plt.plot(cv_mean)\n",
    "plt.xlabel('Number of predictors')\n",
    "plt.ylabel('CV Error value')\n",
    "plt.plot(cv_mean.argmin(), cv_mean.min(), \"or\")"
   ]
  },
  {
   "cell_type": "code",
   "execution_count": 59,
   "metadata": {},
   "outputs": [
    {
     "name": "stdout",
     "output_type": "stream",
     "text": [
      "                                 OLS Regression Results                                \n",
      "=======================================================================================\n",
      "Dep. Variable:                 Salary   R-squared (uncentered):                   0.685\n",
      "Model:                            OLS   Adj. R-squared (uncentered):              0.672\n",
      "Method:                 Least Squares   F-statistic:                              54.56\n",
      "Date:                Mon, 20 Apr 2020   Prob (F-statistic):                    8.32e-52\n",
      "Time:                        18:54:18   Log-Likelihood:                         -1737.9\n",
      "No. Observations:                 235   AIC:                                      3494.\n",
      "Df Residuals:                     226   BIC:                                      3525.\n",
      "Df Model:                           9                                                  \n",
      "Covariance Type:            nonrobust                                                  \n",
      "==============================================================================\n",
      "                 coef    std err          t      P>|t|      [0.025      0.975]\n",
      "------------------------------------------------------------------------------\n",
      "Hits           5.1036      2.325      2.195      0.029       0.522       9.686\n",
      "PutOuts        0.2727      0.101      2.692      0.008       0.073       0.472\n",
      "Division_W   -88.1122     50.742     -1.736      0.084    -188.101      11.876\n",
      "HmRun         -0.8294      6.640     -0.125      0.901     -13.913      12.254\n",
      "AtBat         -0.7780      0.667     -1.166      0.245      -2.093       0.537\n",
      "League_N     103.4130     51.270      2.017      0.045       2.384     204.442\n",
      "RBI            5.3063      3.007      1.764      0.079      -0.620      11.232\n",
      "Assists        0.1477      0.281      0.525      0.600      -0.406       0.702\n",
      "Errors        -9.2617      5.660     -1.636      0.103     -20.415       1.892\n",
      "==============================================================================\n",
      "Omnibus:                       62.044   Durbin-Watson:                   1.995\n",
      "Prob(Omnibus):                  0.000   Jarque-Bera (JB):              182.556\n",
      "Skew:                           1.123   Prob(JB):                     2.28e-40\n",
      "Kurtosis:                       6.687   Cond. No.                     1.19e+03\n",
      "==============================================================================\n",
      "\n",
      "Warnings:\n",
      "[1] Standard Errors assume that the covariance matrix of the errors is correctly specified.\n",
      "[2] The condition number is large, 1.19e+03. This might indicate that there are\n",
      "strong multicollinearity or other numerical problems.\n"
     ]
    }
   ],
   "source": [
    "print(crossV_models.loc[9, \"model\"].summary())"
   ]
  },
  {
   "cell_type": "code",
   "execution_count": null,
   "metadata": {},
   "outputs": [],
   "source": []
  }
 ],
 "metadata": {
  "kernelspec": {
   "display_name": "Python 3",
   "language": "python",
   "name": "python3"
  },
  "language_info": {
   "codemirror_mode": {
    "name": "ipython",
    "version": 3
   },
   "file_extension": ".py",
   "mimetype": "text/x-python",
   "name": "python",
   "nbconvert_exporter": "python",
   "pygments_lexer": "ipython3",
   "version": "3.7.4"
  }
 },
 "nbformat": 4,
 "nbformat_minor": 2
}
