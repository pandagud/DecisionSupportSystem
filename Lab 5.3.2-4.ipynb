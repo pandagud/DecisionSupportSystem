{
 "cells": [
  {
   "cell_type": "code",
   "execution_count": 1,
   "metadata": {},
   "outputs": [],
   "source": [
    "import pandas as pd\n",
    "import numpy as np\n",
    "import sklearn.linear_model as sklearn\n",
    "import matplotlib.pyplot as plotLib\n",
    "from sklearn.model_selection import LeaveOneOut\n",
    "from sklearn.model_selection import KFold\n",
    "from sklearn.model_selection import cross_val_score\n",
    "from sklearn.preprocessing import PolynomialFeatures\n",
    "\n",
    "#linear regression model\n",
    "lm = sklearn.LinearRegression()\n",
    "\n",
    "#Load data fra csv\n",
    "AutoDataSet = pd.read_csv('C:/Users/Morten From/Desktop/Auto.csv').dropna()\n",
    "#AutoDataSet1.info()"
   ]
  },
  {
   "cell_type": "code",
   "execution_count": 2,
   "metadata": {},
   "outputs": [],
   "source": [
    "#Finder de to dataset\n",
    "HorsePowerData = AutoDataSet['horsepower'].values.reshape(-1,1)\n",
    "MPGData = AutoDataSet['mpg']\n",
    "\n",
    "#Finder de enkelte data og opdeler dem i test og train\n",
    "trainData = AutoDataSet.sample(196, random_state = 1) #Random udvalgt train\n",
    "testData = AutoDataSet[~AutoDataSet.isin(trainData)].dropna(how = 'all') #Burde resultere i de ikke udvalgte til train data\n",
    "#train\n",
    "HorsePowerData_train = trainData['horsepower'].values.reshape(-1,1)\n",
    "MPGData_train = trainData['mpg']\n",
    "#test\n",
    "HorsePowerData_test = testData['horsepower'].values.reshape(-1,1)\n",
    "MPGData_test = testData['mpg']"
   ]
  },
  {
   "cell_type": "code",
   "execution_count": 3,
   "metadata": {},
   "outputs": [
    {
     "name": "stdout",
     "output_type": "stream",
     "text": [
      "Folds: 392, MSE: 24.231513517929226, STD: 36.79731503640535\n"
     ]
    }
   ],
   "source": [
    "#Fit model til data\n",
    "linearRegressionModel = lm.fit(HorsePowerData, MPGData)\n",
    "#laver leaveOneOut\n",
    "looVal = LeaveOneOut()\n",
    "n_splits = looVal.get_n_splits(HorsePowerData)\n",
    "#Finder n_splits til vores k_Fold\n",
    "crossVal = KFold(n_splits)\n",
    "#Printer resultat af crossval, som antal folds, MSE og standard deviation\n",
    "Results = cross_val_score(linearRegressionModel, HorsePowerData, MPGData, scoring=\"neg_mean_squared_error\", cv=crossVal)\n",
    "print(\"Folds: \" + str(len(Results)) + \", MSE: \" + str(np.mean(np.abs(Results))) + \", STD: \" + str(np.std(Results)))"
   ]
  },
  {
   "cell_type": "code",
   "execution_count": 4,
   "metadata": {},
   "outputs": [
    {
     "name": "stdout",
     "output_type": "stream",
     "text": [
      "Degree:1 polynomial, MSE: 24.231513517929226, STD: 36.79731503640535\n",
      "Degree:2 polynomial, MSE: 19.248213124489396, STD: 34.998446151782474\n",
      "Degree:3 polynomial, MSE: 19.334984064133813, STD: 35.76513567812919\n",
      "Degree:4 polynomial, MSE: 19.424430309411886, STD: 35.68335275769751\n",
      "Degree:5 polynomial, MSE: 19.033211842978396, STD: 35.31729288251292\n"
     ]
    }
   ],
   "source": [
    "for i in range(1,6):\n",
    "    polynomialFeat = PolynomialFeatures(degree=i)\n",
    "    HorsePower = polynomialFeat.fit_transform(HorsePowerData)\n",
    "    linearRegressionModel = lm.fit(HorsePower, MPGData)\n",
    "    scores = cross_val_score(linearRegressionModel, HorsePower, MPGData, scoring=\"neg_mean_squared_error\", cv=crossVal)\n",
    "    print(\"Degree:\"+str(i)+\" polynomial, MSE: \" + str(np.mean(np.abs(scores))) + \", STD: \" + str(np.std(scores)))"
   ]
  },
  {
   "cell_type": "code",
   "execution_count": 5,
   "metadata": {
    "scrolled": true
   },
   "outputs": [
    {
     "name": "stdout",
     "output_type": "stream",
     "text": [
      "Degree:1 polynomial, MSE: 27.439933652339864, STD: 14.510250711281135\n",
      "Degree:2 polynomial, MSE: 21.23584005580211, STD: 11.797327528898292\n",
      "Degree:3 polynomial, MSE: 21.336606183328694, STD: 11.844339714637215\n",
      "Degree:4 polynomial, MSE: 21.353886994209773, STD: 11.986332342224673\n",
      "Degree:5 polynomial, MSE: 20.905646119059934, STD: 12.18560440073758\n",
      "Degree:6 polynomial, MSE: 20.82189095906726, STD: 12.126258882595026\n",
      "Degree:7 polynomial, MSE: 20.953534894379217, STD: 12.060019626712842\n",
      "Degree:8 polynomial, MSE: 21.077131510426256, STD: 12.04447106023584\n",
      "Degree:9 polynomial, MSE: 21.03675183384266, STD: 11.948760351967676\n",
      "Degree:10 polynomial, MSE: 20.981013741561554, STD: 11.797365253121383\n"
     ]
    }
   ],
   "source": [
    "#Kfold 5.3.3\n",
    "crossVal = KFold(n_splits=10)\n",
    "\n",
    "for i in range(1,11):\n",
    "    polynomialFeat = PolynomialFeatures(degree=i)\n",
    "    HorsePower = polynomialFeat.fit_transform(HorsePowerData)\n",
    "    model = lm.fit(HorsePower, MPGData)\n",
    "    scores = cross_val_score(model, HorsePower, MPGData, scoring=\"neg_mean_squared_error\", cv=crossVal)\n",
    "    \n",
    "    print(\"Degree:\"+str(i)+\" polynomial, MSE: \" + str(np.mean(np.abs(scores))) + \", STD: \" + str(np.std(scores)))"
   ]
  },
  {
   "cell_type": "code",
   "execution_count": 6,
   "metadata": {},
   "outputs": [
    {
     "name": "stdout",
     "output_type": "stream",
     "text": [
      "Alpha for all 100 samples in portfolio:\n",
      "0.5766511516104118\n"
     ]
    }
   ],
   "source": [
    "#bootstrap 5.3.4\n",
    "PortFolioData = pd.read_csv('C:/Users/Morten From/Desktop/Portfolio.csv')\n",
    "\n",
    "#Define alpha, which takes x y and returns alpha\n",
    "def alphaFunction(X,Y):\n",
    "    return ((np.var(Y)-np.cov(X,Y)[0][1])/(np.var(X)+np.var(Y)-2*np.cov(X,Y)[0][1]))\n",
    "\n",
    "#Estimate alpha for the full 100 samples in the portfolio\n",
    "x = PortFolioData.X[0:100]\n",
    "y = PortFolioData.Y[0:100]\n",
    "print(\"Alpha for all 100 samples in portfolio:\")\n",
    "print(alphaFunction(x,y))"
   ]
  },
  {
   "cell_type": "code",
   "execution_count": 7,
   "metadata": {},
   "outputs": [
    {
     "name": "stdout",
     "output_type": "stream",
     "text": [
      "Alpha for new samples in portfolio:\n",
      "0.6885263919413074\n"
     ]
    }
   ],
   "source": [
    "#Random replacement of \n",
    "samples = PortFolioData.sample(frac=1, replace=True)\n",
    "x = samples.X[0:100]\n",
    "y = samples.Y[0:100]\n",
    "print(\"Alpha for new samples in portfolio:\")\n",
    "print(alphaFunction(x,y))"
   ]
  },
  {
   "cell_type": "code",
   "execution_count": 8,
   "metadata": {},
   "outputs": [
    {
     "name": "stdout",
     "output_type": "stream",
     "text": [
      "0.5815197047487938\n",
      "STD: 0.09031602003121492\n"
     ]
    }
   ],
   "source": [
    "totalAlpha = 0\n",
    "alphaValues = []\n",
    "AlphaValue = 0\n",
    "for i in range(0,1000):\n",
    "        samples = PortFolioData.sample(frac=1, replace=True)\n",
    "        x = samples.X[0:100]\n",
    "        y = samples.Y[0:100]\n",
    "        #Alpha = alphaFunction(x,y)\n",
    "        #print(\"Alpha for new samples in portfolio:\")\n",
    "        #print(Alpha)\n",
    "        AlphaValue = alphaFunction(x,y)\n",
    "        totalAlpha += AlphaValue\n",
    "        alphaValues.append(AlphaValue)\n",
    "AproxAlpha = totalAlpha / 1000\n",
    "print(AproxAlpha)\n",
    "print(\"STD: \" + str(np.std(alphaValues)))"
   ]
  },
  {
   "cell_type": "code",
   "execution_count": 16,
   "metadata": {},
   "outputs": [
    {
     "name": "stdout",
     "output_type": "stream",
     "text": [
      "39.93586102117047 [-0.15784473]\n"
     ]
    }
   ],
   "source": [
    "#Estimating the Accuracy of a Linear Regression Model\n",
    "from sklearn.utils import resample\n",
    "#From former assignments we have the linear regression model linearRegressionModel and the dataset AutoDataSet\n",
    "LinearRegression = lm.fit(HorsePowerData, MPGData)\n",
    "print(LinearRegression.intercept_,LinearRegression.coef_)"
   ]
  },
  {
   "cell_type": "code",
   "execution_count": 17,
   "metadata": {},
   "outputs": [
    {
     "name": "stdout",
     "output_type": "stream",
     "text": [
      "39.71755179967372 [-0.15228939]\n"
     ]
    }
   ],
   "source": [
    "HorsePower, MPG = resample(HorsePowerData, MPGData, n_samples=392)\n",
    "LinearRegression = lm.fit(HorsePower,MPG)\n",
    "print(LinearRegression.intercept_,LinearRegression.coef_)"
   ]
  },
  {
   "cell_type": "code",
   "execution_count": 11,
   "metadata": {},
   "outputs": [
    {
     "name": "stdout",
     "output_type": "stream",
     "text": [
      "bootstrap intercept: 39.94767233184664\n",
      "bootstrap coef:-0.15816538383200823\n",
      "STD intercept: 0.8312148882704347\n",
      "STD coef: 0.007097013664807689\n"
     ]
    }
   ],
   "source": [
    "InterceptValues = []\n",
    "CoefValues = []\n",
    "\n",
    "for i in range(0,1000):\n",
    "        HorsePower, MPG = resample(HorsePowerData, MPGData, n_samples=392)\n",
    "        LinearRegression = lm.fit(HorsePower,MPG)\n",
    "        InterceptValues.append(LinearRegression.intercept_)\n",
    "        CoefValues.append(LinearRegression.coef_)\n",
    "        \n",
    "InterceptMean = np.mean(InterceptValues)\n",
    "CoefMean = np.mean(CoefValues)\n",
    "print(\"bootstrap intercept: \"+ str(InterceptMean))\n",
    "print(\"bootstrap coef:\" + str(CoefMean))\n",
    "print(\"STD intercept: \" + str(np.std(InterceptValues)))\n",
    "print(\"STD coef: \" + str(np.std(CoefValues)))\n"
   ]
  },
  {
   "cell_type": "code",
   "execution_count": null,
   "metadata": {},
   "outputs": [],
   "source": []
  }
 ],
 "metadata": {
  "kernelspec": {
   "display_name": "Python 3",
   "language": "python",
   "name": "python3"
  },
  "language_info": {
   "codemirror_mode": {
    "name": "ipython",
    "version": 3
   },
   "file_extension": ".py",
   "mimetype": "text/x-python",
   "name": "python",
   "nbconvert_exporter": "python",
   "pygments_lexer": "ipython3",
   "version": "3.7.4"
  }
 },
 "nbformat": 4,
 "nbformat_minor": 2
}
